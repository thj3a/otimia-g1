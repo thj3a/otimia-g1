{
 "cells": [
  {
   "cell_type": "code",
   "execution_count": null,
   "metadata": {},
   "outputs": [],
   "source": [
    "import os\n",
    "import sys\n",
    "from os import walk"
   ]
  },
  {
   "cell_type": "code",
   "execution_count": 4,
   "metadata": {},
   "outputs": [
    {
     "data": {
      "text/plain": [
       "['knapPI_1_10000_1000_1',\n",
       " 'knapPI_1_1000_1000_1',\n",
       " 'knapPI_1_100_1000_1',\n",
       " 'knapPI_1_2000_1000_1',\n",
       " 'knapPI_1_200_1000_1',\n",
       " 'knapPI_1_5000_1000_1',\n",
       " 'knapPI_1_500_1000_1',\n",
       " 'knapPI_2_10000_1000_1',\n",
       " 'knapPI_2_1000_1000_1',\n",
       " 'knapPI_2_100_1000_1',\n",
       " 'knapPI_2_2000_1000_1',\n",
       " 'knapPI_2_200_1000_1',\n",
       " 'knapPI_2_5000_1000_1',\n",
       " 'knapPI_2_500_1000_1',\n",
       " 'knapPI_3_10000_1000_1',\n",
       " 'knapPI_3_1000_1000_1',\n",
       " 'knapPI_3_100_1000_1',\n",
       " 'knapPI_3_2000_1000_1',\n",
       " 'knapPI_3_200_1000_1',\n",
       " 'knapPI_3_5000_1000_1',\n",
       " 'knapPI_3_500_1000_1']"
      ]
     },
     "execution_count": 4,
     "metadata": {},
     "output_type": "execute_result"
    }
   ],
   "source": [
    "os.listdir('files/instances_01_KP/'+os.listdir('files\\instances_01_KP')[0])"
   ]
  }
 ],
 "metadata": {
  "kernelspec": {
   "display_name": "Python 3.9.13 64-bit",
   "language": "python",
   "name": "python3"
  },
  "language_info": {
   "codemirror_mode": {
    "name": "ipython",
    "version": 3
   },
   "file_extension": ".py",
   "mimetype": "text/x-python",
   "name": "python",
   "nbconvert_exporter": "python",
   "pygments_lexer": "ipython3",
   "version": "3.9.13"
  },
  "orig_nbformat": 4,
  "vscode": {
   "interpreter": {
    "hash": "53ca681ee8de3b54bf163d1b625454d8007d7c8aeafa791857ff706faaf06eee"
   }
  }
 },
 "nbformat": 4,
 "nbformat_minor": 2
}
